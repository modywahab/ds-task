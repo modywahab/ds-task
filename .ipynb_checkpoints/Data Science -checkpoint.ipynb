{
 "cells": [
  {
   "cell_type": "code",
   "execution_count": 1,
   "metadata": {},
   "outputs": [],
   "source": [
    "from selenium import webdriver\n",
    "from selenium.webdriver.common.keys import Keys\n",
    "from bs4 import BeautifulSoup\n",
    "import re\n",
    "import pandas as pd\n",
    "import numpy as np\n",
    "from ummalqura.hijri_date import HijriDate\n",
    "from datetime import date, datetime\n",
    "from IPython.display import display\n",
    "import os\n",
    "from selenium.webdriver.support.ui import Select\n",
    "from datetime import datetime\n",
    "from IPython.display import Image, display\n",
    "from operator import is_not\n",
    "from functools import partial\n",
    "\n",
    "import matplotlib.pyplot as plt\n",
    "%matplotlib inline"
   ]
  },
  {
   "cell_type": "markdown",
   "metadata": {},
   "source": [
    "# Web Scrapping - Hassa"
   ]
  },
  {
   "cell_type": "markdown",
   "metadata": {},
   "source": [
    "Initiate a WebDriver that will connect to [AlHasa Municipality](https://www.alhasa.gov.sa/SitePages/GetObituary.aspx) website"
   ]
  },
  {
   "cell_type": "code",
   "execution_count": null,
   "metadata": {},
   "outputs": [],
   "source": [
    "def connect():\n",
    "    #launch url\n",
    "    url = 'https://www.alhasa.gov.sa/SitePages/GetObituary.aspx'\n",
    "\n",
    "    # create a new Firefox session\n",
    "    driver = webdriver.Firefox()\n",
    "    driver.implicitly_wait(5)\n",
    "    driver.get(url)\n",
    "    return driver"
   ]
  },
  {
   "cell_type": "markdown",
   "metadata": {},
   "source": [
    "Because the date pickers in this website are complex, and the website doesn't allow me to write on the dates text field directly, I choose to set the dates manually.\n",
    "\n",
    "The loop below iterates through the pages, and only stores the source code of each page. I separated the data structuring phase to a separate loop because I don't want to interrupt or add delay to the web scrapping part."
   ]
  },
  {
   "cell_type": "code",
   "execution_count": null,
   "metadata": {},
   "outputs": [],
   "source": [
    "page_sources = []\n",
    "while True:\n",
    "    page_sources.append(driver.page_source)\n",
    "    try:\n",
    "        next_btn = driver.find_element_by_id(\n",
    "        'ctl00_SPWebPartManager1_g_f82b5b79_188a_4cdc_a21b_8d289061bf26_ctl00_Pager_LbNext')\n",
    "        next_btn.click()\n",
    "    except:\n",
    "        break\n",
    "    "
   ]
  },
  {
   "cell_type": "markdown",
   "metadata": {},
   "source": [
    "The loop below will iterate through `page_sources`, which was collected in the previous loop, and get the data from the table of each page, then store them in a dataframe"
   ]
  },
  {
   "cell_type": "code",
   "execution_count": null,
   "metadata": {},
   "outputs": [],
   "source": [
    "people = []\n",
    "for page_source in page_sources:\n",
    "    soup = BeautifulSoup(page_source,'lxml')\n",
    "    table = soup.find('div',\n",
    "                      {'id':\n",
    "                       'ctl00_SPWebPartManager1_g_f82b5b79_188a_4cdc_a21b_8d289061bf26_ctl00_ROW_MULTIDATA'})\n",
    "    table = (list(table.children))[1]\n",
    "    table = (list(table.children))[1]\n",
    "    table = (list(table.children))[1]\n",
    "    table = (list(table.children))[1:]\n",
    "\n",
    "    for p in table:\n",
    "        try:\n",
    "            person = (list(p.children))[1:-1]\n",
    "            person = [x.text.replace('\\n','') for x in person]\n",
    "            people.append(person)\n",
    "        except:\n",
    "            continue\n",
    "column_names = ['Name','Gender','Nationality','Age','Date of Burial','Hospital','Permit Number']\n",
    "df = pd.DataFrame(people,columns=column_names)"
   ]
  },
  {
   "cell_type": "markdown",
   "metadata": {},
   "source": [
    "Finally, the web scrapping part is completed anda all the data that we need are in the dataframe above"
   ]
  },
  {
   "cell_type": "markdown",
   "metadata": {},
   "source": [
    "## Data Preprocessing"
   ]
  },
  {
   "cell_type": "code",
   "execution_count": 21,
   "metadata": {},
   "outputs": [
    {
     "data": {
      "text/plain": [
       "'/Users/maccccc/.Trash/ds-task'"
      ]
     },
     "execution_count": 21,
     "metadata": {},
     "output_type": "execute_result"
    }
   ],
   "source": [
    "os.listdir('data')\n",
    "os.getcwd() "
   ]
  },
  {
   "cell_type": "code",
   "execution_count": 14,
   "metadata": {
    "scrolled": true
   },
   "outputs": [
    {
     "ename": "FileNotFoundError",
     "evalue": "File b'data/Hassa_mortality_records.csv' does not exist",
     "output_type": "error",
     "traceback": [
      "\u001b[0;31m---------------------------------------------------------------------------\u001b[0m",
      "\u001b[0;31mFileNotFoundError\u001b[0m                         Traceback (most recent call last)",
      "\u001b[0;32m<ipython-input-14-50e97ec173a7>\u001b[0m in \u001b[0;36m<module>\u001b[0;34m\u001b[0m\n\u001b[0;32m----> 1\u001b[0;31m \u001b[0mdf\u001b[0m \u001b[0;34m=\u001b[0m \u001b[0mpd\u001b[0m\u001b[0;34m.\u001b[0m\u001b[0mread_csv\u001b[0m\u001b[0;34m(\u001b[0m\u001b[0;34m'data/Hassa_mortality_records.csv'\u001b[0m\u001b[0;34m,\u001b[0m\u001b[0mindex_col\u001b[0m\u001b[0;34m=\u001b[0m\u001b[0;36m0\u001b[0m\u001b[0;34m)\u001b[0m\u001b[0;34m\u001b[0m\u001b[0m\n\u001b[0m",
      "\u001b[0;32m/Library/Frameworks/Python.framework/Versions/3.6/lib/python3.6/site-packages/pandas/io/parsers.py\u001b[0m in \u001b[0;36mparser_f\u001b[0;34m(filepath_or_buffer, sep, delimiter, header, names, index_col, usecols, squeeze, prefix, mangle_dupe_cols, dtype, engine, converters, true_values, false_values, skipinitialspace, skiprows, nrows, na_values, keep_default_na, na_filter, verbose, skip_blank_lines, parse_dates, infer_datetime_format, keep_date_col, date_parser, dayfirst, iterator, chunksize, compression, thousands, decimal, lineterminator, quotechar, quoting, escapechar, comment, encoding, dialect, tupleize_cols, error_bad_lines, warn_bad_lines, skipfooter, doublequote, delim_whitespace, low_memory, memory_map, float_precision)\u001b[0m\n\u001b[1;32m    676\u001b[0m                     skip_blank_lines=skip_blank_lines)\n\u001b[1;32m    677\u001b[0m \u001b[0;34m\u001b[0m\u001b[0m\n\u001b[0;32m--> 678\u001b[0;31m         \u001b[0;32mreturn\u001b[0m \u001b[0m_read\u001b[0m\u001b[0;34m(\u001b[0m\u001b[0mfilepath_or_buffer\u001b[0m\u001b[0;34m,\u001b[0m \u001b[0mkwds\u001b[0m\u001b[0;34m)\u001b[0m\u001b[0;34m\u001b[0m\u001b[0m\n\u001b[0m\u001b[1;32m    679\u001b[0m \u001b[0;34m\u001b[0m\u001b[0m\n\u001b[1;32m    680\u001b[0m     \u001b[0mparser_f\u001b[0m\u001b[0;34m.\u001b[0m\u001b[0m__name__\u001b[0m \u001b[0;34m=\u001b[0m \u001b[0mname\u001b[0m\u001b[0;34m\u001b[0m\u001b[0m\n",
      "\u001b[0;32m/Library/Frameworks/Python.framework/Versions/3.6/lib/python3.6/site-packages/pandas/io/parsers.py\u001b[0m in \u001b[0;36m_read\u001b[0;34m(filepath_or_buffer, kwds)\u001b[0m\n\u001b[1;32m    438\u001b[0m \u001b[0;34m\u001b[0m\u001b[0m\n\u001b[1;32m    439\u001b[0m     \u001b[0;31m# Create the parser.\u001b[0m\u001b[0;34m\u001b[0m\u001b[0;34m\u001b[0m\u001b[0m\n\u001b[0;32m--> 440\u001b[0;31m     \u001b[0mparser\u001b[0m \u001b[0;34m=\u001b[0m \u001b[0mTextFileReader\u001b[0m\u001b[0;34m(\u001b[0m\u001b[0mfilepath_or_buffer\u001b[0m\u001b[0;34m,\u001b[0m \u001b[0;34m**\u001b[0m\u001b[0mkwds\u001b[0m\u001b[0;34m)\u001b[0m\u001b[0;34m\u001b[0m\u001b[0m\n\u001b[0m\u001b[1;32m    441\u001b[0m \u001b[0;34m\u001b[0m\u001b[0m\n\u001b[1;32m    442\u001b[0m     \u001b[0;32mif\u001b[0m \u001b[0mchunksize\u001b[0m \u001b[0;32mor\u001b[0m \u001b[0miterator\u001b[0m\u001b[0;34m:\u001b[0m\u001b[0;34m\u001b[0m\u001b[0m\n",
      "\u001b[0;32m/Library/Frameworks/Python.framework/Versions/3.6/lib/python3.6/site-packages/pandas/io/parsers.py\u001b[0m in \u001b[0;36m__init__\u001b[0;34m(self, f, engine, **kwds)\u001b[0m\n\u001b[1;32m    785\u001b[0m             \u001b[0mself\u001b[0m\u001b[0;34m.\u001b[0m\u001b[0moptions\u001b[0m\u001b[0;34m[\u001b[0m\u001b[0;34m'has_index_names'\u001b[0m\u001b[0;34m]\u001b[0m \u001b[0;34m=\u001b[0m \u001b[0mkwds\u001b[0m\u001b[0;34m[\u001b[0m\u001b[0;34m'has_index_names'\u001b[0m\u001b[0;34m]\u001b[0m\u001b[0;34m\u001b[0m\u001b[0m\n\u001b[1;32m    786\u001b[0m \u001b[0;34m\u001b[0m\u001b[0m\n\u001b[0;32m--> 787\u001b[0;31m         \u001b[0mself\u001b[0m\u001b[0;34m.\u001b[0m\u001b[0m_make_engine\u001b[0m\u001b[0;34m(\u001b[0m\u001b[0mself\u001b[0m\u001b[0;34m.\u001b[0m\u001b[0mengine\u001b[0m\u001b[0;34m)\u001b[0m\u001b[0;34m\u001b[0m\u001b[0m\n\u001b[0m\u001b[1;32m    788\u001b[0m \u001b[0;34m\u001b[0m\u001b[0m\n\u001b[1;32m    789\u001b[0m     \u001b[0;32mdef\u001b[0m \u001b[0mclose\u001b[0m\u001b[0;34m(\u001b[0m\u001b[0mself\u001b[0m\u001b[0;34m)\u001b[0m\u001b[0;34m:\u001b[0m\u001b[0;34m\u001b[0m\u001b[0m\n",
      "\u001b[0;32m/Library/Frameworks/Python.framework/Versions/3.6/lib/python3.6/site-packages/pandas/io/parsers.py\u001b[0m in \u001b[0;36m_make_engine\u001b[0;34m(self, engine)\u001b[0m\n\u001b[1;32m   1012\u001b[0m     \u001b[0;32mdef\u001b[0m \u001b[0m_make_engine\u001b[0m\u001b[0;34m(\u001b[0m\u001b[0mself\u001b[0m\u001b[0;34m,\u001b[0m \u001b[0mengine\u001b[0m\u001b[0;34m=\u001b[0m\u001b[0;34m'c'\u001b[0m\u001b[0;34m)\u001b[0m\u001b[0;34m:\u001b[0m\u001b[0;34m\u001b[0m\u001b[0m\n\u001b[1;32m   1013\u001b[0m         \u001b[0;32mif\u001b[0m \u001b[0mengine\u001b[0m \u001b[0;34m==\u001b[0m \u001b[0;34m'c'\u001b[0m\u001b[0;34m:\u001b[0m\u001b[0;34m\u001b[0m\u001b[0m\n\u001b[0;32m-> 1014\u001b[0;31m             \u001b[0mself\u001b[0m\u001b[0;34m.\u001b[0m\u001b[0m_engine\u001b[0m \u001b[0;34m=\u001b[0m \u001b[0mCParserWrapper\u001b[0m\u001b[0;34m(\u001b[0m\u001b[0mself\u001b[0m\u001b[0;34m.\u001b[0m\u001b[0mf\u001b[0m\u001b[0;34m,\u001b[0m \u001b[0;34m**\u001b[0m\u001b[0mself\u001b[0m\u001b[0;34m.\u001b[0m\u001b[0moptions\u001b[0m\u001b[0;34m)\u001b[0m\u001b[0;34m\u001b[0m\u001b[0m\n\u001b[0m\u001b[1;32m   1015\u001b[0m         \u001b[0;32melse\u001b[0m\u001b[0;34m:\u001b[0m\u001b[0;34m\u001b[0m\u001b[0m\n\u001b[1;32m   1016\u001b[0m             \u001b[0;32mif\u001b[0m \u001b[0mengine\u001b[0m \u001b[0;34m==\u001b[0m \u001b[0;34m'python'\u001b[0m\u001b[0;34m:\u001b[0m\u001b[0;34m\u001b[0m\u001b[0m\n",
      "\u001b[0;32m/Library/Frameworks/Python.framework/Versions/3.6/lib/python3.6/site-packages/pandas/io/parsers.py\u001b[0m in \u001b[0;36m__init__\u001b[0;34m(self, src, **kwds)\u001b[0m\n\u001b[1;32m   1706\u001b[0m         \u001b[0mkwds\u001b[0m\u001b[0;34m[\u001b[0m\u001b[0;34m'usecols'\u001b[0m\u001b[0;34m]\u001b[0m \u001b[0;34m=\u001b[0m \u001b[0mself\u001b[0m\u001b[0;34m.\u001b[0m\u001b[0musecols\u001b[0m\u001b[0;34m\u001b[0m\u001b[0m\n\u001b[1;32m   1707\u001b[0m \u001b[0;34m\u001b[0m\u001b[0m\n\u001b[0;32m-> 1708\u001b[0;31m         \u001b[0mself\u001b[0m\u001b[0;34m.\u001b[0m\u001b[0m_reader\u001b[0m \u001b[0;34m=\u001b[0m \u001b[0mparsers\u001b[0m\u001b[0;34m.\u001b[0m\u001b[0mTextReader\u001b[0m\u001b[0;34m(\u001b[0m\u001b[0msrc\u001b[0m\u001b[0;34m,\u001b[0m \u001b[0;34m**\u001b[0m\u001b[0mkwds\u001b[0m\u001b[0;34m)\u001b[0m\u001b[0;34m\u001b[0m\u001b[0m\n\u001b[0m\u001b[1;32m   1709\u001b[0m \u001b[0;34m\u001b[0m\u001b[0m\n\u001b[1;32m   1710\u001b[0m         \u001b[0mpassed_names\u001b[0m \u001b[0;34m=\u001b[0m \u001b[0mself\u001b[0m\u001b[0;34m.\u001b[0m\u001b[0mnames\u001b[0m \u001b[0;32mis\u001b[0m \u001b[0;32mNone\u001b[0m\u001b[0;34m\u001b[0m\u001b[0m\n",
      "\u001b[0;32mpandas/_libs/parsers.pyx\u001b[0m in \u001b[0;36mpandas._libs.parsers.TextReader.__cinit__\u001b[0;34m()\u001b[0m\n",
      "\u001b[0;32mpandas/_libs/parsers.pyx\u001b[0m in \u001b[0;36mpandas._libs.parsers.TextReader._setup_parser_source\u001b[0;34m()\u001b[0m\n",
      "\u001b[0;31mFileNotFoundError\u001b[0m: File b'data/Hassa_mortality_records.csv' does not exist"
     ]
    }
   ],
   "source": [
    "df = pd.read_csv('data/Hassa_mortality_records.csv',index_col=0)"
   ]
  },
  {
   "cell_type": "markdown",
   "metadata": {},
   "source": [
    "### Helper Fucntions"
   ]
  },
  {
   "cell_type": "code",
   "execution_count": 3,
   "metadata": {},
   "outputs": [],
   "source": [
    "# Change Date from and to Gregorian\n",
    "def toGr(hj):\n",
    "    try:\n",
    "        hjr = hj.split('/')\n",
    "        hjr = HijriDate(int(hjr[0]), int(hjr[1]), int(hjr[2]))\n",
    "    except:\n",
    "        raise Exception(hj)\n",
    "    return pd.to_datetime('{} {} {}'.format(hjr.year_gr,hjr.month_name_gr,hjr.day_gr))\n",
    "def toHj(gr):\n",
    "    return HijriDate(gr.year,gr.month,gr.day,gr=True)"
   ]
  },
  {
   "cell_type": "markdown",
   "metadata": {},
   "source": [
    "### Data Cleaning and Transformation"
   ]
  },
  {
   "cell_type": "code",
   "execution_count": 4,
   "metadata": {
    "scrolled": true
   },
   "outputs": [],
   "source": [
    "# Add a column with Gregorian dates\n",
    "df['Date of Burial Gr'] = df['Date of Burial'].apply(toGr)\n",
    "\n",
    "#Change the type of the Age from Object to Integers. Fraction ages will be rounded\n",
    "df['Age'] = df['Age'].apply(lambda x: 0. if (x == 'أقل من سنة ')  else int(float(x))\n",
    "                           )\n",
    "# Encode the Genders to Female and Male\n",
    "df['Gender'] = df['Gender'].apply(lambda x: 'M' if x == 'ذكر' \n",
    "                                  else 'F' if x == 'انثى' \n",
    "                                  else np.nan)\n",
    "\n",
    "# Dropped Rows condtions:\n",
    "##- Rows with unknown gender\n",
    "##- Rows with Ages above 100 and below 5\n",
    "##- Rows of None Saudi people\n",
    "drop_condtions = (df.Gender.isna()) | (df['Age']>100)|(df['Age']<5) | (df.Nationality!='سعودي')\n",
    "df.drop(df[drop_condtions].index,inplace=True)\n",
    "# df.drop(df[df.Gender.isna()].index,inplace=True);\n",
    "# df.drop(df[(df['Age']>100)|(df['Age']<5)].index,inplace=True);\n",
    "\n",
    "# Drop duplicate rows\n",
    "df.drop_duplicates(keep='first',inplace=True)"
   ]
  },
  {
   "cell_type": "markdown",
   "metadata": {},
   "source": [
    "## Data Exploration"
   ]
  },
  {
   "cell_type": "code",
   "execution_count": 5,
   "metadata": {},
   "outputs": [
    {
     "name": "stdout",
     "output_type": "stream",
     "text": [
      "Mean age = 62.0\n",
      "Female to Male ratio = 4:6\n"
     ]
    }
   ],
   "source": [
    "print('Mean age =',round(df.Age.mean()))\n",
    "print('Female to Male ratio = {:.0f}:{:.0f}'.format(\n",
    "    10*df[df.Gender == 'F'].shape[0]/df.shape[0],\n",
    "    10*df[df.Gender == 'M'].shape[0]/df.shape[0]))\n"
   ]
  },
  {
   "cell_type": "markdown",
   "metadata": {},
   "source": [
    "### Check Data Completion\n",
    "It is highly unlikely that a day would pass without any mortalities in any region in Saudi Arabia. However, while I was scrapping the data, I have noticed that there some gaps between records, some spanning to days, weeks, or even months. That's why I have done the following analysis to explore patterns in the missing data"
   ]
  },
  {
   "cell_type": "code",
   "execution_count": 6,
   "metadata": {},
   "outputs": [
    {
     "name": "stdout",
     "output_type": "stream",
     "text": [
      "- The percentage of days without records in the data set = %56.48\n",
      "- Total number of days without records = 1738\n"
     ]
    },
    {
     "data": {
      "image/png": "[encoded data removed]",
      "text/plain": [
       "<Figure size 432x288 with 1 Axes>"
      ]
     },
     "metadata": {
      "needs_background": "light"
     },
     "output_type": "display_data"
    },
    {
     "data": {
      "text/plain": [
       "8     161\n",
       "9     161\n",
       "10    159\n",
       "12    149\n",
       "3     148\n",
       "7     146\n",
       "4     142\n",
       "5     140\n",
       "2     137\n",
       "11    137\n",
       "6     130\n",
       "1     128\n",
       "dtype: int64"
      ]
     },
     "execution_count": 6,
     "metadata": {},
     "output_type": "execute_result"
    }
   ],
   "source": [
    "#Array of days with records in the dataset\n",
    "days = np.sort(df['Date of Burial Gr'].unique())\n",
    "existing_days_per_month = pd.Series(days).apply(lambda x: toHj(x).month).value_counts()\n",
    "#Number of days between the first record and the last\n",
    "days_dif = pd.Timedelta((days[-1]-days[0])).days\n",
    "#Get the total days object from the date of the first record to the last\n",
    "days_range = (pd.date_range(days[0], periods=days_dif+1).values)\n",
    "\n",
    "#Array of days with in the range, but with no records in the dataset\n",
    "missing_days = np.array(list(set(days_range).difference(set(days))))\n",
    "missing_days_per_month = pd.Series(missing_days).apply(lambda x: toHj(x).month).value_counts()\n",
    "\n",
    "print('- The percentage of days without records in the data set = %{:.2f}'\n",
    "      .format(100*len(missing_days)/days_range.shape[0]))\n",
    "print('- Total number of days without records =',len(missing_days))\n",
    "\n",
    "plt.title('Number of Days without records per month')\n",
    "(missing_days_per_month.sort_index()).plot.bar();\n",
    "plt.show()\n",
    "\n",
    "\n",
    "missing_days_per_month.sort_values(ascending=False)"
   ]
  },
  {
   "cell_type": "markdown",
   "metadata": {},
   "source": [
    "**Observation**: The number of days without records is not uniformly distributed throughout the months, therefore, seasonal trends is affected by the missing data. Furthermore, it is safe to assume that even the recorded days have missing records with in them. That is why I believe that the data aquired from [AlHasa Municipality](https://www.alhasa.gov.sa/SitePages/GetObituary.aspx) is unreliable"
   ]
  },
  {
   "cell_type": "markdown",
   "metadata": {},
   "source": [
    "### Moment of Truth\n",
    "The purpose of this analysis is to determine whether Shaban(the 8th Hijir month) was the month in which muslims die the most. The bar chart below Tells us otherwise"
   ]
  },
  {
   "cell_type": "code",
   "execution_count": 7,
   "metadata": {},
   "outputs": [],
   "source": [
    "#All\n",
    "record_per_month = df['Date of Burial'].apply(lambda x: x.split('/')[1]).value_counts()\n",
    "record_per_month = (record_per_month*100/df.shape[0]).round(2).sort_index()\n",
    "#M\n",
    "record_per_month_M = df[df['Gender']=='M']['Date of Burial'].apply(lambda x: x.split('/')[1]).value_counts()\n",
    "record_per_month_M = (record_per_month_M*100/df[df['Gender']=='M'].shape[0]).round(2).sort_index()\n",
    "#F\n",
    "record_per_month_F = df[df['Gender']=='F']['Date of Burial'].apply(lambda x: x.split('/')[1]).value_counts()\n",
    "record_per_month_F = (record_per_month_F*100/df[df['Gender']=='F'].shape[0]).round(2).sort_index()\n",
    "rpm_df = pd.DataFrame(list(zip(record_per_month_M,record_per_month_F,record_per_month)),\n",
    "                     columns =['M','F','All'],index = record_per_month.index)\n"
   ]
  },
  {
   "cell_type": "code",
   "execution_count": 9,
   "metadata": {},
   "outputs": [
    {
     "data": {
      "image/png": "[encoded data removed]",
      "text/plain": [
       "<Figure size 936x360 with 2 Axes>"
      ]
     },
     "metadata": {
      "needs_background": "light"
     },
     "output_type": "display_data"
    },
    {
     "data": {
      "image/png": "[encoded data removed]",
      "text/plain": [
       "<Figure size 936x360 with 2 Axes>"
      ]
     },
     "metadata": {
      "needs_background": "light"
     },
     "output_type": "display_data"
    },
    {
     "data": {
      "text/html": [
       "<div>\n",
       "<style scoped>\n",
       "    .dataframe tbody tr th:only-of-type {\n",
       "        vertical-align: middle;\n",
       "    }\n",
       "\n",
       "    .dataframe tbody tr th {\n",
       "        vertical-align: top;\n",
       "    }\n",
       "\n",
       "    .dataframe thead th {\n",
       "        text-align: right;\n",
       "    }\n",
       "</style>\n",
       "<table border=\"1\" class=\"dataframe\">\n",
       "  <thead>\n",
       "    <tr style=\"text-align: right;\">\n",
       "      <th></th>\n",
       "      <th>M</th>\n",
       "      <th>F</th>\n",
       "      <th>All</th>\n",
       "    </tr>\n",
       "    <tr>\n",
       "      <th>Month Rank</th>\n",
       "      <th></th>\n",
       "      <th></th>\n",
       "      <th></th>\n",
       "    </tr>\n",
       "  </thead>\n",
       "  <tbody>\n",
       "    <tr>\n",
       "      <th>1</th>\n",
       "      <td>06</td>\n",
       "      <td>06</td>\n",
       "      <td>06</td>\n",
       "    </tr>\n",
       "    <tr>\n",
       "      <th>2</th>\n",
       "      <td>04</td>\n",
       "      <td>04</td>\n",
       "      <td>04</td>\n",
       "    </tr>\n",
       "    <tr>\n",
       "      <th>3</th>\n",
       "      <td>05</td>\n",
       "      <td>02</td>\n",
       "      <td>05</td>\n",
       "    </tr>\n",
       "    <tr>\n",
       "      <th>4</th>\n",
       "      <td>07</td>\n",
       "      <td>07</td>\n",
       "      <td>07</td>\n",
       "    </tr>\n",
       "    <tr>\n",
       "      <th>5</th>\n",
       "      <td>08</td>\n",
       "      <td>08</td>\n",
       "      <td>08</td>\n",
       "    </tr>\n",
       "    <tr>\n",
       "      <th>6</th>\n",
       "      <td>03</td>\n",
       "      <td>01</td>\n",
       "      <td>02</td>\n",
       "    </tr>\n",
       "    <tr>\n",
       "      <th>7</th>\n",
       "      <td>02</td>\n",
       "      <td>05</td>\n",
       "      <td>01</td>\n",
       "    </tr>\n",
       "    <tr>\n",
       "      <th>8</th>\n",
       "      <td>01</td>\n",
       "      <td>10</td>\n",
       "      <td>03</td>\n",
       "    </tr>\n",
       "    <tr>\n",
       "      <th>9</th>\n",
       "      <td>12</td>\n",
       "      <td>09</td>\n",
       "      <td>12</td>\n",
       "    </tr>\n",
       "    <tr>\n",
       "      <th>10</th>\n",
       "      <td>09</td>\n",
       "      <td>03</td>\n",
       "      <td>09</td>\n",
       "    </tr>\n",
       "    <tr>\n",
       "      <th>11</th>\n",
       "      <td>10</td>\n",
       "      <td>11</td>\n",
       "      <td>10</td>\n",
       "    </tr>\n",
       "    <tr>\n",
       "      <th>12</th>\n",
       "      <td>11</td>\n",
       "      <td>12</td>\n",
       "      <td>11</td>\n",
       "    </tr>\n",
       "  </tbody>\n",
       "</table>\n",
       "</div>"
      ],
      "text/plain": [
       "             M   F All\n",
       "Month Rank            \n",
       "1           06  06  06\n",
       "2           04  04  04\n",
       "3           05  02  05\n",
       "4           07  07  07\n",
       "5           08  08  08\n",
       "6           03  01  02\n",
       "7           02  05  01\n",
       "8           01  10  03\n",
       "9           12  09  12\n",
       "10          09  03  09\n",
       "11          10  11  10\n",
       "12          11  12  11"
      ]
     },
     "metadata": {},
     "output_type": "display_data"
    }
   ],
   "source": [
    "# Make a fake dataset\n",
    "fig = plt.figure(figsize=(13,5))\n",
    "ax1 = fig.add_subplot(121)\n",
    "ax2 = fig.add_subplot(122)\n",
    "\n",
    "height = record_per_month.sort_index().values\n",
    "bars = list(range(1,13))\n",
    "y_pos = np.arange(len(bars))\n",
    "\n",
    "ax2.bar(y_pos, height, color='g',alpha=.25,label='All',)\n",
    "ax2.legend()\n",
    "\n",
    "font_size=14\n",
    "bbox=[0, 0, 1, 1]\n",
    "ax1.axis('off')\n",
    "mpl_table = ax1.table(cellText = rpm_df.values, rowLabels = rpm_df.index, bbox=bbox,\n",
    "                      colLabels=rpm_df.columns)\n",
    "\n",
    "mpl_table.auto_set_font_size(False)\n",
    "mpl_table.set_fontsize(font_size)\n",
    "ax1.set_title('Percentage of Mortality rate Per Month')\n",
    "plt.show()\n",
    "\n",
    "\n",
    "\n",
    "\n",
    "fig = plt.figure(figsize=(13,5))\n",
    "ax1 = fig.add_subplot(121)\n",
    "ax2 = fig.add_subplot(122)\n",
    "\n",
    "height = record_per_month_M.sort_index().values\n",
    "bars = list(range(1,13))\n",
    "y_pos = np.arange(len(bars))\n",
    "ax1.bar(y_pos, height, color=(.5,.8,1.),alpha=1,label='Males')\n",
    "ax1.legend()\n",
    "\n",
    "height = record_per_month_F.sort_index().values\n",
    "bars = list(range(1,13))\n",
    "y_pos = np.arange(len(bars))\n",
    "ax2.bar(y_pos, height, color=(1., .65, .5),alpha=1,label='Females')\n",
    "ax2.legend()\n",
    "\n",
    "plt.xticks(y_pos, bars)\n",
    "plt.show()\n",
    "\n",
    "\n",
    "rank_m = rpm_df.M.sort_values(ascending=False).index\n",
    "rank_f = rpm_df.F.sort_values(ascending=False).index\n",
    "rank_all = rpm_df.All.sort_values(ascending=False).index\n",
    "list(zip(rank_m,rank_f,rank_all))\n",
    "rank = pd.DataFrame(list(zip(rank_m,rank_f,rank_all)),columns=rpm_df.columns,index=range(1,13))\n",
    "rank.index.name = 'Month Rank'\n",
    "display(rank)"
   ]
  },
  {
   "cell_type": "markdown",
   "metadata": {},
   "source": [
    "# Web Scrapping - Riyadh [unsuccessful attempt]"
   ]
  },
  {
   "cell_type": "markdown",
   "metadata": {},
   "source": [
    "I was a bit greedy for data, that's why I was trying to scrap data from the most populated reagion in the kingdom. The layout of the pages is [AlRiyadh Municipality's](https://www.alhasa.gov.sa/SitePages/GetObituary.aspx) website was designed very well. However, it is so buggy, which makes impossible to scrap without it being crashed "
   ]
  },
  {
   "cell_type": "code",
   "execution_count": null,
   "metadata": {},
   "outputs": [],
   "source": [
    "def connect():\n",
    "    #launch url\n",
    "    url = 'https://eservices.alriyadh.gov.sa/_layouts/RM_Pages/GRV/QueryDeaths.aspx'\n",
    "\n",
    "    # create a new Firefox session\n",
    "    driver = webdriver.Firefox()\n",
    "    driver.implicitly_wait(5)\n",
    "    driver.get(url)\n",
    "    return driver"
   ]
  },
  {
   "cell_type": "code",
   "execution_count": null,
   "metadata": {},
   "outputs": [],
   "source": [
    "driver = connect()"
   ]
  },
  {
   "cell_type": "code",
   "execution_count": null,
   "metadata": {},
   "outputs": [],
   "source": [
    "%%time\n",
    "people = []\n",
    "page_sources = []\n",
    "button_index = ['12','22','24']\n",
    "j = -1\n",
    "max_excepts = 3\n",
    "while True:\n",
    "    j = j +1\n",
    "    sleep(2)\n",
    "    try:\n",
    "        page_source = driver.page_source\n",
    "        soup = BeautifulSoup(page_source,'lxml')\n",
    "        page_sources.append(page_source)\n",
    "        \n",
    "        script = \"javascript:__doPostBack('ctl00$PlaceHolderMain$grdLeaves$ctl00$ctl03$ctl01$ctl{}','')\".format(button_index[j%3])\n",
    "        driver.find_element_by_xpath('//a[@href=\"{}\"]'.format(script)).click()\n",
    "\n",
    "        max_excepts = 3\n",
    "        sleep(4)\n",
    "    except:\n",
    "        sleep(1)\n",
    "        print('Except')\n",
    "        max_excepts = max_excepts -1\n",
    "        if max_excepts >=0:\n",
    "            print('Refresh')\n",
    "            driver.refresh()\n",
    "        else:\n",
    "            print('Error')\n",
    "len((people))"
   ]
  },
  {
   "cell_type": "code",
   "execution_count": null,
   "metadata": {},
   "outputs": [],
   "source": [
    "%%time\n",
    "people = []\n",
    "for page_source in page_sources:\n",
    "        soup = BeautifulSoup(page_source,'lxml')\n",
    "\n",
    "        #Scrap table rows\n",
    "        rows = [soup.find('tr',{'id':('ctl00_PlaceHolderMain_grdLeaves_ctl00__'+str(i))}) for i in range(10)]\n",
    "        rows = list(filter(partial(is_not, None), rows))\n",
    "        rows = [list(r.children)[1:-1] for r in rows]\n",
    "        for i,r in enumerate(rows):\n",
    "            rows[i] = [i.text for i in r]\n",
    "        people = people + rows\n",
    "column_names = ['Nationality','Name','Reported By','Gender','Hospital','Date of Burial','Place of Burial']\n",
    "df = pd.DataFrame(people,columns=column_names)\n",
    "df.drop_duplicates(inplace=True)\n",
    "df.to_csv('RYD.csv')"
   ]
  }
 ],
 "metadata": {
  "kernelspec": {
   "display_name": "Python 3",
   "language": "python",
   "name": "python3"
  },
  "language_info": {
   "codemirror_mode": {
    "name": "ipython",
    "version": 3
   },
   "file_extension": ".py",
   "mimetype": "text/x-python",
   "name": "python",
   "nbconvert_exporter": "python",
   "pygments_lexer": "ipython3",
   "version": "3.6.5"
  }
 },
 "nbformat": 4,
 "nbformat_minor": 2
}
